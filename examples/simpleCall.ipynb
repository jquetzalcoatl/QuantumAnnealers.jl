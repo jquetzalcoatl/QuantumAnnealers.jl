{
 "cells": [
  {
   "cell_type": "code",
   "execution_count": 5,
   "metadata": {},
   "outputs": [],
   "source": [
    "# import Pkg\n",
    "# Pkg.add(\"HTTP\")\n",
    "# Pkg.add(\"JSON\")\n",
    "# Pkg.add(\"YAML\")\n",
    "# Pkg.add(\"URIs\")"
   ]
  },
  {
   "cell_type": "code",
   "execution_count": 649,
   "metadata": {},
   "outputs": [
    {
     "name": "stderr",
     "output_type": "stream",
     "text": [
      "WARNING: replacing module QuantumAnnealers.\n"
     ]
    }
   ],
   "source": [
    "include(\"../src/QuantumAnnealers.jl\")\n",
    "using .QuantumAnnealers\n",
    "using JSON, HTTP, URIs"
   ]
  },
  {
   "cell_type": "code",
   "execution_count": 650,
   "metadata": {},
   "outputs": [],
   "source": [
    "using YAML\n",
    "\n",
    "# Load your Dwave API key into config\n",
    "config = YAML.load_file(\"../secrets.yaml\");\n",
    "QuantumAnnealers.init(config[\"dwave\"][\"key\"]);"
   ]
  },
  {
   "cell_type": "code",
   "execution_count": 651,
   "metadata": {},
   "outputs": [],
   "source": [
    "# # Define your Ising problem\n",
    "# h = Dict(1 => -1, 2 => -1)  # Linear coefficients\n",
    "# J = Dict((1, 2) => 1)     # Quadratic coefficients\n",
    "\n",
    "# # Submit the Ising problem to the solver\n",
    "# job_id = QuantumAnnealers.ising_sample(solver[\"topology__type\"], h, J)\n",
    "\n",
    "# # Assuming the job is complete, fetch the results\n",
    "# results = QuantumAnnealers.fetch_results(job_id)\n",
    "\n",
    "# println(results)"
   ]
  },
  {
   "cell_type": "code",
   "execution_count": 652,
   "metadata": {},
   "outputs": [
    {
     "name": "stdout",
     "output_type": "stream",
     "text": [
      "hybrid_binary_quadratic_model_version2\n",
      "\t Status: ONLINE\t Avg Load: 0.0 \n",
      "hybrid_discrete_quadratic_model_version1\n",
      "\t Status: ONLINE\t Avg Load: 0.0 \n",
      "Advantage_system4.1\n",
      "\t Status: ONLINE\t Avg Load: 0.0 \n",
      "hybrid_constrained_quadratic_model_version1\n",
      "\t Status: ONLINE\t Avg Load: 0.0 \n",
      "Advantage2_prototype1.1\n",
      "\t Status: ONLINE\t Avg Load: 0.0 \n",
      "Advantage_system6.3\n",
      "\t Status: ONLINE\t Avg Load: 0.0 \n"
     ]
    },
    {
     "data": {
      "text/plain": [
       "6-element Vector{Any}:\n",
       " Dict{String, Any}(\"status\" => \"ONLINE\", \"properties\" => Dict{String, Any}(\"maximum_number_of_biases\" => 200000000, \"parameters\" => Dict{String, Any}(\"time_limit\" => \"Maximum requested runtime in seconds.\"), \"quota_conversion_rate\" => 20, \"maximum_time_limit_hrs\" => 24.0, \"minimum_time_limit\" => Any[Any[1, 3.0], Any[1024, 3.0], Any[4096, 10.0], Any[10000, 40.0], Any[30000, 200.0], Any[100000, 600.0], Any[1000000, 600.0]], \"maximum_number_of_variables\" => 1000000, \"supported_problem_types\" => Any[\"bqm\"], \"category\" => \"hybrid\", \"version\" => \"2.2\"), \"id\" => \"hybrid_binary_quadratic_model_version2\", \"description\" => \"Hybrid solver for general BQM problems\", \"avg_load\" => 0.0)\n",
       " Dict{String, Any}(\"status\" => \"ONLINE\", \"properties\" => Dict{String, Any}(\"maximum_number_of_biases\" => 5000000000, \"parameters\" => Dict{String, Any}(\"time_limit\" => \"Maximum requested runtime in seconds.\"), \"quota_conversion_rate\" => 20, \"maximum_number_of_cases\" => 500000, \"maximum_time_limit_hrs\" => 24.0, \"minimum_time_limit\" => Any[Any[20000, 5.0], Any[100000, 6.0], Any[200000, 13.0], Any[500000, 34.0], Any[1000000, 71.0], Any[2000000, 152.0], Any[5000000, 250.0], Any[20000000, 400.0], Any[250000000, 1200.0]], \"maximum_number_of_variables\" => 5000, \"supported_problem_types\" => Any[\"dqm\"], \"category\" => \"hybrid\", \"version\" => \"1.12\"…), \"id\" => \"hybrid_discrete_quadratic_model_version1\", \"description\" => \"Hybrid solver for general DQM problems\", \"avg_load\" => 0.0)\n",
       " Dict{String, Any}(\"status\" => \"ONLINE\", \"properties\" => Dict{String, Any}(\"problem_run_duration_range\" => Any[0.0, 1.0e6], \"programming_thermalization_range\" => Any[0.0, 10000.0], \"readout_thermalization_range\" => Any[0.0, 10000.0], \"couplers\" => Any[Any[30, 31], Any[31, 32], Any[32, 33], Any[33, 34], Any[34, 35], Any[35, 36], Any[36, 37], Any[37, 38], Any[38, 39], Any[39, 40]  …  Any[2624, 5728], Any[2639, 5728], Any[5713, 5728], Any[5727, 5728], Any[2774, 5729], Any[2789, 5729], Any[2804, 5729], Any[2819, 5729], Any[5714, 5729], Any[5728, 5729]], \"supported_problem_types\" => Any[\"ising\", \"qubo\"], \"j_range\" => Any[-1.0, 1.0], \"qubits\" => Any[30, 31, 32, 33, 34, 35, 36, 37, 38, 39  …  5720, 5721, 5722, 5723, 5724, 5725, 5726, 5727, 5728, 5729], \"problem_timing_data\" => Dict{String, Any}(\"reverse_annealing_without_reinit_delay_time_delta\" => -1.5, \"decorrelation_time_range\" => Any[500.0, 10000.0], \"decorrelation_max_nominal_anneal_time\" => 2000.0, \"typical_programming_time\" => 14072.88, \"readout_time_model_parameters\" => Any[0.0, 0.7699665876947938, 1.7242758696010096, 2.711975459489206, 3.1639057672764026, 3.750276915153992, 1.539131714800995, 1.8726623164229292, 2.125631787097315, 2.332672340068556, 2.371606651233025, 2.3716219271760215], \"version\" => \"1.0.0\", \"default_programming_thermalization\" => 1000.0, \"reverse_annealing_with_reinit_delay_time_delta\" => -4.5, \"default_annealing_time\" => 20.0, \"reverse_annealing_with_reinit_prog_time_delta\" => 0.0…), \"anneal_offset_ranges\" => Any[Any[0.0, 0.0], Any[0.0, 0.0], Any[0.0, 0.0], Any[0.0, 0.0], Any[0.0, 0.0], Any[0.0, 0.0], Any[0.0, 0.0], Any[0.0, 0.0], Any[0.0, 0.0], Any[0.0, 0.0]  …  Any[0.0, 0.0], Any[0.0, 0.0], Any[0.0, 0.0], Any[0.0, 0.0], Any[0.0, 0.0], Any[0.0, 0.0], Any[0.0, 0.0], Any[0.0, 0.0], Any[0.0, 0.0], Any[0.0, 0.0]], \"parameters\" => Dict{String, Any}(\"anneal_schedule\" => \"Annealing schedule formatted as a piecewise linear list of floating-point pairs of 't' and 's'.\", \"anneal_offsets\" => \"Anneal offsets for each working qubit, formatted as a list, with NaN specified for unused qubits.\", \"max_answers\" => \"Maximum number of answers to return.\", \"programming_thermalization\" => \"Time in microseconds to wait after programming the processor in order for it to cool back to base temperature, as a positive floating point number.\", \"flux_biases\" => \"Flux biases for each working qubit, in normalized offset units, formatted as a list for all qubits.\", \"initial_state\" => \"Initial states to use for a reverse-anneal request, as a list of qubit index and state.\", \"readout_thermalization\" => \"Time in microseconds to wait after each state is read from the processor in order for it to cool back to base temperature, as a positive floating point number.\", \"answer_mode\" => \"Format of returned answers, as 'histogram' or 'raw' samples.\", \"auto_scale\" => \"Automatic rescaling of h and J values to their available range, as a boolean flag.\", \"num_reads\" => \"Number of states to read (answers to return), as a positive integer.\"…)…), \"id\" => \"Advantage_system4.1\", \"description\" => \"Advantage performance update\", \"avg_load\" => 0.0)\n",
       " Dict{String, Any}(\"status\" => \"ONLINE\", \"properties\" => Dict{String, Any}(\"maximum_number_of_quadratic_variables\" => 100000000, \"num_biases_multiplier\" => 4.65705646e-6, \"num_constraints_multiplier\" => 6.44385747e-9, \"maximum_number_of_linear_biases_real\" => 200000000, \"supported_problem_types\" => Any[\"cqm\"], \"parameters\" => Dict{String, Any}(\"time_limit\" => \"Maximum requested runtime in seconds.\"), \"quota_conversion_rate\" => 20, \"maximum_time_limit_hrs\" => 24.0, \"version\" => \"1.12\", \"num_variables_multiplier\" => 0.000157411458…), \"id\" => \"hybrid_constrained_quadratic_model_version1\", \"description\" => \"Hybrid solver for general CQM problems\", \"avg_load\" => 0.0)\n",
       " Dict{String, Any}(\"status\" => \"ONLINE\", \"properties\" => Dict{String, Any}(\"problem_run_duration_range\" => Any[0.0, 1.0e6], \"programming_thermalization_range\" => Any[0.0, 10000.0], \"readout_thermalization_range\" => Any[0.0, 10000.0], \"couplers\" => Any[Any[0, 1], Any[1, 2], Any[2, 3], Any[0, 4], Any[1, 4], Any[1, 5], Any[2, 5], Any[4, 5], Any[2, 6], Any[3, 6]  …  Any[231, 575], Any[239, 575], Any[247, 575], Any[255, 575], Any[263, 575], Any[271, 575], Any[279, 575], Any[287, 575], Any[571, 575], Any[574, 575]], \"supported_problem_types\" => Any[\"ising\", \"qubo\"], \"j_range\" => Any[-1.0, 1.0], \"qubits\" => Any[0, 1, 2, 3, 4, 5, 6, 7, 8, 9  …  566, 567, 568, 569, 570, 571, 572, 573, 574, 575], \"problem_timing_data\" => Dict{String, Any}(\"reverse_annealing_without_reinit_delay_time_delta\" => -1.5, \"decorrelation_time_range\" => Any[500.0, 10000.0], \"decorrelation_max_nominal_anneal_time\" => 2000.0, \"typical_programming_time\" => 5516.04, \"readout_time_model_parameters\" => Any[0.0, 0.3557275141339465, 0.9357724660357261, 1.0791812460476866, 2.2951678040928636, 2.5136212074094355, 2.750508394851346, 1.2532064939682217, 1.3793326293216919, 1.5651536730002933, 1.4962317591534156, 1.5713111737732646, 1.614822057719991, 1.6148972160331345], \"version\" => \"1.0.0\", \"default_programming_thermalization\" => 1000.0, \"reverse_annealing_with_reinit_delay_time_delta\" => -4.5, \"default_annealing_time\" => 20.0, \"reverse_annealing_with_reinit_prog_time_delta\" => 0.0…), \"anneal_offset_ranges\" => Any[Any[-0.8763787484417843, 0.88397011689178], Any[-0.8768039773643824, 0.8664222518808119], Any[-0.8674912943408645, 0.8659911252139515], Any[-0.8593191547054061, 0.8173707781808314], Any[-0.8484247281723366, 0.876347929712106], Any[-0.8664241896015504, 0.8516336367481675], Any[-0.8836746697271209, 0.874998790930659], Any[-0.859713749671771, 0.8386071612329301], Any[-0.850773641689041, 0.8668368630314344], Any[-0.8689979511063738, 0.8524103072717624]  …  Any[-0.8580181801368043, 0.9051633665115275], Any[-0.9010227938732774, 0.8897315702569872], Any[-0.8969972603498109, 0.8617189793550367], Any[-0.8965770523426333, 0.8021706655807362], Any[-0.8497656417010934, 0.8916073800611578], Any[-0.9065781115913125, 0.873980425405842], Any[-0.8888079989377095, 0.8953638137153215], Any[-0.8459868718147546, 0.8936538074162234], Any[-0.9112988037924872, 0.9141990052158347], Any[-0.9126609257568562, 0.8842314748283825]], \"parameters\" => Dict{String, Any}(\"anneal_schedule\" => \"Annealing schedule formatted as a piecewise linear list of floating-point pairs of 't' and 's'.\", \"anneal_offsets\" => \"Anneal offsets for each working qubit, formatted as a list, with NaN specified for unused qubits.\", \"max_answers\" => \"Maximum number of answers to return.\", \"programming_thermalization\" => \"Time in microseconds to wait after programming the processor in order for it to cool back to base temperature, as a positive floating point number.\", \"flux_biases\" => \"Flux biases for each working qubit, in normalized offset units, formatted as a list for all qubits.\", \"initial_state\" => \"Initial states to use for a reverse-anneal request, as a list of qubit index and state.\", \"readout_thermalization\" => \"Time in microseconds to wait after each state is read from the processor in order for it to cool back to base temperature, as a positive floating point number.\", \"answer_mode\" => \"Format of returned answers, as 'histogram' or 'raw' samples.\", \"auto_scale\" => \"Automatic rescaling of h and J values to their available range, as a boolean flag.\", \"num_reads\" => \"Number of states to read (answers to return), as a positive integer.\"…)…), \"id\" => \"Advantage2_prototype1.1\", \"description\" => \"Small, experimental prototype of next-generation Advantage system architecture\", \"avg_load\" => 0.0)\n",
       " Dict{String, Any}(\"status\" => \"ONLINE\", \"properties\" => Dict{String, Any}(\"problem_run_duration_range\" => Any[0.0, 1.0e6], \"programming_thermalization_range\" => Any[0.0, 10000.0], \"readout_thermalization_range\" => Any[0.0, 10000.0], \"couplers\" => Any[Any[30, 31], Any[31, 32], Any[32, 33], Any[33, 34], Any[34, 35], Any[35, 36], Any[36, 37], Any[37, 38], Any[38, 39], Any[39, 40]  …  Any[2624, 5728], Any[2639, 5728], Any[5713, 5728], Any[5727, 5728], Any[2774, 5729], Any[2789, 5729], Any[2804, 5729], Any[2819, 5729], Any[5714, 5729], Any[5728, 5729]], \"supported_problem_types\" => Any[\"ising\", \"qubo\"], \"j_range\" => Any[-1.0, 1.0], \"qubits\" => Any[30, 31, 32, 33, 34, 35, 36, 37, 38, 39  …  5720, 5721, 5722, 5723, 5724, 5725, 5726, 5727, 5728, 5729], \"problem_timing_data\" => Dict{String, Any}(\"reverse_annealing_without_reinit_delay_time_delta\" => -1.5, \"decorrelation_time_range\" => Any[500.0, 10000.0], \"decorrelation_max_nominal_anneal_time\" => 2000.0, \"typical_programming_time\" => 14233.78, \"readout_time_model_parameters\" => Any[0.0, 0.557233790378284, 2.6280685283226806, 3.031704391882836, 3.7494270991217484, 1.3835889668743164, 1.6905249515148377, 2.2077057584952944, 2.2388441797907164, 2.238848680362337], \"version\" => \"1.0.0\", \"default_programming_thermalization\" => 1000.0, \"reverse_annealing_with_reinit_delay_time_delta\" => -4.5, \"default_annealing_time\" => 20.0, \"reverse_annealing_with_reinit_prog_time_delta\" => 0.0…), \"anneal_offset_ranges\" => Any[Any[0.0, 0.0], Any[0.0, 0.0], Any[0.0, 0.0], Any[0.0, 0.0], Any[0.0, 0.0], Any[0.0, 0.0], Any[0.0, 0.0], Any[0.0, 0.0], Any[0.0, 0.0], Any[0.0, 0.0]  …  Any[0.0, 0.0], Any[0.0, 0.0], Any[0.0, 0.0], Any[0.0, 0.0], Any[0.0, 0.0], Any[0.0, 0.0], Any[0.0, 0.0], Any[0.0, 0.0], Any[0.0, 0.0], Any[0.0, 0.0]], \"parameters\" => Dict{String, Any}(\"anneal_schedule\" => \"Annealing schedule formatted as a piecewise linear list of floating-point pairs of 't' and 's'.\", \"anneal_offsets\" => \"Anneal offsets for each working qubit, formatted as a list, with NaN specified for unused qubits.\", \"max_answers\" => \"Maximum number of answers to return.\", \"programming_thermalization\" => \"Time in microseconds to wait after programming the processor in order for it to cool back to base temperature, as a positive floating point number.\", \"flux_biases\" => \"Flux biases for each working qubit, in normalized offset units, formatted as a list for all qubits.\", \"initial_state\" => \"Initial states to use for a reverse-anneal request, as a list of qubit index and state.\", \"readout_thermalization\" => \"Time in microseconds to wait after each state is read from the processor in order for it to cool back to base temperature, as a positive floating point number.\", \"answer_mode\" => \"Format of returned answers, as 'histogram' or 'raw' samples.\", \"auto_scale\" => \"Automatic rescaling of h and J values to their available range, as a boolean flag.\", \"num_reads\" => \"Number of states to read (answers to return), as a positive integer.\"…)…), \"id\" => \"Advantage_system6.3\", \"description\" => \"Advantage performance update\", \"avg_load\" => 0.0)"
      ]
     },
     "metadata": {},
     "output_type": "display_data"
    }
   ],
   "source": [
    "QuantumAnnealers.solvers_available()"
   ]
  },
  {
   "cell_type": "code",
   "execution_count": 653,
   "metadata": {},
   "outputs": [
    {
     "name": "stderr",
     "output_type": "stream",
     "text": [
      "┌ Info: Getting solver Advantage_system6.3: ONLINE\n",
      "└ @ Main.QuantumAnnealers /Users/javier/Desktop/Julia/QuantumAnnealers.jl/src/QuantumAnnealers.jl:30\n"
     ]
    },
    {
     "data": {
      "text/plain": [
       "Dict{String, Any} with 31 entries:\n",
       "  \"problem_run_duration_range\"         => Any[0.0, 1.0e6]\n",
       "  \"programming_thermalization_range\"   => Any[0.0, 10000.0]\n",
       "  \"readout_thermalization_range\"       => Any[0.0, 10000.0]\n",
       "  \"couplers\"                           => Any[Any[30, 31], Any[31, 32], Any[32,…\n",
       "  \"supported_problem_types\"            => Any[\"ising\", \"qubo\"]\n",
       "  \"j_range\"                            => Any[-1.0, 1.0]\n",
       "  \"qubits\"                             => Any[30, 31, 32, 33, 34, 35, 36, 37, 3…\n",
       "  \"problem_timing_data\"                => Dict{String, Any}(\"reverse_annealing_…\n",
       "  \"anneal_offset_ranges\"               => Any[Any[0.0, 0.0], Any[0.0, 0.0], Any…\n",
       "  \"parameters\"                         => Dict{String, Any}(\"anneal_schedule\"=>…\n",
       "  \"chip_id\"                            => \"Advantage_system6.3\"\n",
       "  \"quota_conversion_rate\"              => 1\n",
       "  \"id\"                                 => \"Advantage_system6.3\"\n",
       "  \"h_range\"                            => Any[-4.0, 4.0]\n",
       "  \"default_programming_thermalization\" => 1000.0\n",
       "  \"num_reads_range\"                    => Any[1, 10000]\n",
       "  \"default_annealing_time\"             => 20.0\n",
       "  \"extended_j_range\"                   => Any[-2.0, 1.0]\n",
       "  \"topology\"                           => Dict{String, Any}(\"shape\"=>Any[16], \"…\n",
       "  ⋮                                    => ⋮"
      ]
     },
     "metadata": {},
     "output_type": "display_data"
    }
   ],
   "source": [
    "dwave_model = QuantumAnnealers.get_solver()"
   ]
  },
  {
   "cell_type": "code",
   "execution_count": 654,
   "metadata": {},
   "outputs": [
    {
     "data": {
      "text/plain": [
       "Dict{String, Any} with 7 entries:\n",
       "  \"timing\"           => Dict{String, Any}(\"qpu_delay_time_per_sample\"=>20.54, \"…\n",
       "  \"num_variables\"    => 5760\n",
       "  \"format\"           => \"qp\"\n",
       "  \"active_variables\" => \"HgAAAB8AAAA=\"\n",
       "  \"energies\"         => \"AAAAAAAA8L8AAAAAAADwvw==\"\n",
       "  \"num_occurrences\"  => \"BAAAAAYAAAA=\"\n",
       "  \"solutions\"        => \"AMA=\""
      ]
     },
     "metadata": {},
     "output_type": "display_data"
    }
   ],
   "source": [
    "#Ising Sampling https://docs.dwavesys.com/docs/latest/rest_api_full_examples.html#submit-a-problem-to-a-qpu-sampler\n",
    "\n",
    "biases = Dict(\"x\"=> -0.5, \"y\"=> 0.5, \"xy\"=> -1.0)\n",
    "# biases = Dict(\"x\"=> 4.0, \"y\"=> 4.0, \"xy\"=> -1)\n",
    "# qubits = res[\"qubits\"]\n",
    "# couplers = res[\"couplers\"]\n",
    "# xy = couplers[1]\n",
    "\n",
    "lin, quad = QuantumAnnealers.parse_b_and_j(biases, dwave_model)\n",
    "\n",
    "conditions = QuantumAnnealers.create_conditions(lin, quad, dwave_model; label=\"Test 1\", num_reads=10)\n",
    "\n",
    "res = QuantumAnnealers.post_problem(conditions)\n",
    "\n",
    "answer = QuantumAnnealers.get_answer(res)"
   ]
  },
  {
   "cell_type": "code",
   "execution_count": 645,
   "metadata": {},
   "outputs": [
    {
     "data": {
      "text/plain": [
       "Dict{String, Any} with 7 entries:\n",
       "  \"timing\"           => Dict{String, Any}(\"qpu_delay_time_per_sample\"=>20.54, \"…\n",
       "  \"num_variables\"    => 5760\n",
       "  \"format\"           => \"qp\"\n",
       "  \"active_variables\" => \"HgAAAB8AAAA=\"\n",
       "  \"energies\"         => \"AAAAAAAA8L8AAAAAAADwvw==\"\n",
       "  \"num_occurrences\"  => \"AgAAAAgAAAA=\"\n",
       "  \"solutions\"        => \"AMA=\""
      ]
     },
     "metadata": {},
     "output_type": "display_data"
    }
   ],
   "source": [
    "# answer = QuantumAnnealers.get_answer(res)"
   ]
  },
  {
   "cell_type": "code",
   "execution_count": 655,
   "metadata": {},
   "outputs": [
    {
     "name": "stdout",
     "output_type": "stream",
     "text": [
      "decode_energy(answer[\"energies\"]) = [-1.0, -1.0]\n",
      "bytes_to_ising_solutions(answer[\"solutions\"]) = [-1, -1, -1, -1, -1, -1, 1, 1, -1, -1, -1, -1, -1, -1, -1, -1]\n",
      "decode_variables(answer[\"active_variables\"]) = Int32[30, 31]\n"
     ]
    },
    {
     "data": {
      "text/plain": [
       "2-element reinterpret(Int32, ::Vector{UInt8}):\n",
       " 30\n",
       " 31"
      ]
     },
     "metadata": {},
     "output_type": "display_data"
    }
   ],
   "source": [
    "@show decode_energy(answer[\"energies\"])\n",
    "@show bytes_to_ising_solutions(answer[\"solutions\"])\n",
    "@show decode_variables(answer[\"active_variables\"])"
   ]
  },
  {
   "cell_type": "code",
   "execution_count": 656,
   "metadata": {},
   "outputs": [
    {
     "data": {
      "text/plain": [
       "2×2 Matrix{Int64}:\n",
       " 1  -1\n",
       " 1  -1"
      ]
     },
     "metadata": {},
     "output_type": "display_data"
    }
   ],
   "source": [
    "get_spins(answer)"
   ]
  },
  {
   "cell_type": "code",
   "execution_count": null,
   "metadata": {},
   "outputs": [],
   "source": []
  }
 ],
 "metadata": {
  "kernelspec": {
   "display_name": "Julia 1.8.4",
   "language": "julia",
   "name": "julia-1.8"
  },
  "language_info": {
   "file_extension": ".jl",
   "mimetype": "application/julia",
   "name": "julia",
   "version": "1.8.4"
  },
  "orig_nbformat": 4
 },
 "nbformat": 4,
 "nbformat_minor": 2
}
