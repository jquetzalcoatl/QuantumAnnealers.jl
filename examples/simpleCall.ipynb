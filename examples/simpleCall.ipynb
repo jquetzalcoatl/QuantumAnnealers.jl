{
 "cells": [
  {
   "cell_type": "code",
   "execution_count": 5,
   "metadata": {},
   "outputs": [],
   "source": [
    "# import Pkg\n",
    "# Pkg.add(\"HTTP\")\n",
    "# Pkg.add(\"JSON\")\n",
    "# Pkg.add(\"YAML\")\n",
    "# Pkg.add(\"URIs\")"
   ]
  },
  {
   "cell_type": "code",
   "execution_count": 85,
   "metadata": {},
   "outputs": [
    {
     "name": "stderr",
     "output_type": "stream",
     "text": [
      "WARNING: replacing module QuantumAnnealers.\n"
     ]
    }
   ],
   "source": [
    "include(\"../src/QuantumAnnealers.jl\")\n",
    "using .QuantumAnnealers\n",
    "using JSON, HTTP, URIs"
   ]
  },
  {
   "cell_type": "code",
   "execution_count": 86,
   "metadata": {},
   "outputs": [
    {
     "data": {
      "text/plain": [
       "Dict{String, String} with 1 entry:\n",
       "  \"topology__type\" => \"pegasus\""
      ]
     },
     "metadata": {},
     "output_type": "display_data"
    }
   ],
   "source": [
    "using YAML\n",
    "\n",
    "# Load your Dwave API key into config\n",
    "config = YAML.load_file(\"../secrets.yaml\");\n",
    "QuantumAnnealers.init(config[\"dwave\"][\"key\"]);\n",
    "solver=Dict(\"topology__type\"=>\"pegasus\")"
   ]
  },
  {
   "cell_type": "code",
   "execution_count": 16,
   "metadata": {},
   "outputs": [],
   "source": [
    "# Q = Dict(0 => Dict(1 => -1.0), 1 => Dict(2 => -1.0), 0 => Dict(2 => 2.0));\n",
    "# result = QuantumAnnealers.solve_qubo(solver[\"topology__type\"], Q)\n",
    "\n",
    "# println(\"Result: $result\")"
   ]
  },
  {
   "cell_type": "code",
   "execution_count": 11,
   "metadata": {},
   "outputs": [
    {
     "ename": "HTTP.Exceptions.StatusError",
     "evalue": "HTTP.Exceptions.StatusError(404, \"POST\", \"/sapi/solvers/pegasus/jobs/\", HTTP.Messages.Response:\n\"\"\"\nHTTP/1.1 404 Not Found\r\nDate: Sun, 05 Nov 2023 20:21:22 GMT\r\nContent-Type: text/plain; charset=utf-8\r\nContent-Length: 14\r\nConnection: keep-alive\r\nServer: nginx\r\n\r\n404: Not Found\"\"\")",
     "output_type": "error",
     "traceback": [
      "HTTP.Exceptions.StatusError(404, \"POST\", \"/sapi/solvers/pegasus/jobs/\", HTTP.Messages.Response:\n",
      "\"\"\"\n",
      "HTTP/1.1 404 Not Found\r\n",
      "Date: Sun, 05 Nov 2023 20:21:22 GMT\r\n",
      "Content-Type: text/plain; charset=utf-8\r\n",
      "Content-Length: 14\r\n",
      "Connection: keep-alive\r\n",
      "Server: nginx\r\n",
      "\r\n",
      "404: Not Found\"\"\")\n",
      "\n",
      "Stacktrace:\n",
      "  [1] (::HTTP.ConnectionRequest.var\"#connections#4\"{HTTP.ConnectionRequest.var\"#connections#1#5\"{HTTP.TimeoutRequest.var\"#timeouts#3\"{HTTP.TimeoutRequest.var\"#timeouts#1#4\"{HTTP.ExceptionRequest.var\"#exceptions#2\"{HTTP.ExceptionRequest.var\"#exceptions#1#3\"{typeof(HTTP.StreamRequest.streamlayer)}}}}}})(req::HTTP.Messages.Request; proxy::Nothing, socket_type::Type, socket_type_tls::Type, readtimeout::Int64, connect_timeout::Int64, logerrors::Bool, logtag::Nothing, kw::Base.Pairs{Symbol, Union{Nothing, Int64}, Tuple{Symbol, Symbol, Symbol}, NamedTuple{(:iofunction, :decompress, :verbose), Tuple{Nothing, Nothing, Int64}}})\n",
      "    @ HTTP.ConnectionRequest ~/.julia/packages/HTTP/SN7VW/src/clientlayers/ConnectionRequest.jl:144\n",
      "  [2] (::Base.var\"#88#90\"{Base.var\"#88#89#91\"{ExponentialBackOff, HTTP.RetryRequest.var\"#2#5\"{Int64, typeof(HTTP.RetryRequest.FALSE), HTTP.Messages.Request, Base.RefValue{Int64}}, HTTP.ConnectionRequest.var\"#connections#4\"{HTTP.ConnectionRequest.var\"#connections#1#5\"{HTTP.TimeoutRequest.var\"#timeouts#3\"{HTTP.TimeoutRequest.var\"#timeouts#1#4\"{HTTP.ExceptionRequest.var\"#exceptions#2\"{HTTP.ExceptionRequest.var\"#exceptions#1#3\"{typeof(HTTP.StreamRequest.streamlayer)}}}}}}}})(args::HTTP.Messages.Request; kwargs::Base.Pairs{Symbol, Union{Nothing, Int64}, Tuple{Symbol, Symbol, Symbol}, NamedTuple{(:iofunction, :decompress, :verbose), Tuple{Nothing, Nothing, Int64}}})\n",
      "    @ Base ./error.jl:296\n",
      "  [3] (::HTTP.RetryRequest.var\"#manageretries#3\"{HTTP.RetryRequest.var\"#manageretries#1#4\"{HTTP.ConnectionRequest.var\"#connections#4\"{HTTP.ConnectionRequest.var\"#connections#1#5\"{HTTP.TimeoutRequest.var\"#timeouts#3\"{HTTP.TimeoutRequest.var\"#timeouts#1#4\"{HTTP.ExceptionRequest.var\"#exceptions#2\"{HTTP.ExceptionRequest.var\"#exceptions#1#3\"{typeof(HTTP.StreamRequest.streamlayer)}}}}}}}})(req::HTTP.Messages.Request; retry::Bool, retries::Int64, retry_delays::ExponentialBackOff, retry_check::Function, retry_non_idempotent::Bool, kw::Base.Pairs{Symbol, Union{Nothing, Int64}, Tuple{Symbol, Symbol, Symbol}, NamedTuple{(:iofunction, :decompress, :verbose), Tuple{Nothing, Nothing, Int64}}})\n",
      "    @ HTTP.RetryRequest ~/.julia/packages/HTTP/SN7VW/src/clientlayers/RetryRequest.jl:75\n",
      "  [4] (::HTTP.CookieRequest.var\"#managecookies#4\"{HTTP.CookieRequest.var\"#managecookies#1#5\"{HTTP.RetryRequest.var\"#manageretries#3\"{HTTP.RetryRequest.var\"#manageretries#1#4\"{HTTP.ConnectionRequest.var\"#connections#4\"{HTTP.ConnectionRequest.var\"#connections#1#5\"{HTTP.TimeoutRequest.var\"#timeouts#3\"{HTTP.TimeoutRequest.var\"#timeouts#1#4\"{HTTP.ExceptionRequest.var\"#exceptions#2\"{HTTP.ExceptionRequest.var\"#exceptions#1#3\"{typeof(HTTP.StreamRequest.streamlayer)}}}}}}}}}})(req::HTTP.Messages.Request; cookies::Bool, cookiejar::HTTP.Cookies.CookieJar, kw::Base.Pairs{Symbol, Union{Nothing, Int64}, Tuple{Symbol, Symbol, Symbol}, NamedTuple{(:iofunction, :decompress, :verbose), Tuple{Nothing, Nothing, Int64}}})\n",
      "    @ HTTP.CookieRequest ~/.julia/packages/HTTP/SN7VW/src/clientlayers/CookieRequest.jl:42\n",
      "  [5] (::HTTP.HeadersRequest.var\"#defaultheaders#2\"{HTTP.HeadersRequest.var\"#defaultheaders#1#3\"{HTTP.CookieRequest.var\"#managecookies#4\"{HTTP.CookieRequest.var\"#managecookies#1#5\"{HTTP.RetryRequest.var\"#manageretries#3\"{HTTP.RetryRequest.var\"#manageretries#1#4\"{HTTP.ConnectionRequest.var\"#connections#4\"{HTTP.ConnectionRequest.var\"#connections#1#5\"{HTTP.TimeoutRequest.var\"#timeouts#3\"{HTTP.TimeoutRequest.var\"#timeouts#1#4\"{HTTP.ExceptionRequest.var\"#exceptions#2\"{HTTP.ExceptionRequest.var\"#exceptions#1#3\"{typeof(HTTP.StreamRequest.streamlayer)}}}}}}}}}}}})(req::HTTP.Messages.Request; iofunction::Nothing, decompress::Nothing, basicauth::Bool, detect_content_type::Bool, canonicalize_headers::Bool, kw::Base.Pairs{Symbol, Int64, Tuple{Symbol}, NamedTuple{(:verbose,), Tuple{Int64}}})\n",
      "    @ HTTP.HeadersRequest ~/.julia/packages/HTTP/SN7VW/src/clientlayers/HeadersRequest.jl:71\n",
      "  [6] (::HTTP.RedirectRequest.var\"#redirects#3\"{HTTP.RedirectRequest.var\"#redirects#1#4\"{HTTP.HeadersRequest.var\"#defaultheaders#2\"{HTTP.HeadersRequest.var\"#defaultheaders#1#3\"{HTTP.CookieRequest.var\"#managecookies#4\"{HTTP.CookieRequest.var\"#managecookies#1#5\"{HTTP.RetryRequest.var\"#manageretries#3\"{HTTP.RetryRequest.var\"#manageretries#1#4\"{HTTP.ConnectionRequest.var\"#connections#4\"{HTTP.ConnectionRequest.var\"#connections#1#5\"{HTTP.TimeoutRequest.var\"#timeouts#3\"{HTTP.TimeoutRequest.var\"#timeouts#1#4\"{HTTP.ExceptionRequest.var\"#exceptions#2\"{HTTP.ExceptionRequest.var\"#exceptions#1#3\"{typeof(HTTP.StreamRequest.streamlayer)}}}}}}}}}}}}}})(req::HTTP.Messages.Request; redirect::Bool, redirect_limit::Int64, redirect_method::Nothing, forwardheaders::Bool, response_stream::Nothing, kw::Base.Pairs{Symbol, Int64, Tuple{Symbol}, NamedTuple{(:verbose,), Tuple{Int64}}})\n",
      "    @ HTTP.RedirectRequest ~/.julia/packages/HTTP/SN7VW/src/clientlayers/RedirectRequest.jl:25\n",
      "  [7] (::HTTP.MessageRequest.var\"#makerequest#3\"{HTTP.MessageRequest.var\"#makerequest#1#4\"{HTTP.RedirectRequest.var\"#redirects#3\"{HTTP.RedirectRequest.var\"#redirects#1#4\"{HTTP.HeadersRequest.var\"#defaultheaders#2\"{HTTP.HeadersRequest.var\"#defaultheaders#1#3\"{HTTP.CookieRequest.var\"#managecookies#4\"{HTTP.CookieRequest.var\"#managecookies#1#5\"{HTTP.RetryRequest.var\"#manageretries#3\"{HTTP.RetryRequest.var\"#manageretries#1#4\"{HTTP.ConnectionRequest.var\"#connections#4\"{HTTP.ConnectionRequest.var\"#connections#1#5\"{HTTP.TimeoutRequest.var\"#timeouts#3\"{HTTP.TimeoutRequest.var\"#timeouts#1#4\"{HTTP.ExceptionRequest.var\"#exceptions#2\"{HTTP.ExceptionRequest.var\"#exceptions#1#3\"{typeof(HTTP.StreamRequest.streamlayer)}}}}}}}}}}}}}}}})(method::String, url::URIs.URI, headers::Nothing, body::String; copyheaders::Bool, response_stream::Nothing, http_version::HTTP.Strings.HTTPVersion, verbose::Int64, kw::Base.Pairs{Symbol, Union{}, Tuple{}, NamedTuple{(), Tuple{}}})\n",
      "    @ HTTP.MessageRequest ~/.julia/packages/HTTP/SN7VW/src/clientlayers/MessageRequest.jl:35\n",
      "  [8] makerequest\n",
      "    @ ~/.julia/packages/HTTP/SN7VW/src/clientlayers/MessageRequest.jl:24 [inlined]\n",
      "  [9] request(stack::HTTP.MessageRequest.var\"#makerequest#3\"{HTTP.MessageRequest.var\"#makerequest#1#4\"{HTTP.RedirectRequest.var\"#redirects#3\"{HTTP.RedirectRequest.var\"#redirects#1#4\"{HTTP.HeadersRequest.var\"#defaultheaders#2\"{HTTP.HeadersRequest.var\"#defaultheaders#1#3\"{HTTP.CookieRequest.var\"#managecookies#4\"{HTTP.CookieRequest.var\"#managecookies#1#5\"{HTTP.RetryRequest.var\"#manageretries#3\"{HTTP.RetryRequest.var\"#manageretries#1#4\"{HTTP.ConnectionRequest.var\"#connections#4\"{HTTP.ConnectionRequest.var\"#connections#1#5\"{HTTP.TimeoutRequest.var\"#timeouts#3\"{HTTP.TimeoutRequest.var\"#timeouts#1#4\"{HTTP.ExceptionRequest.var\"#exceptions#2\"{HTTP.ExceptionRequest.var\"#exceptions#1#3\"{typeof(HTTP.StreamRequest.streamlayer)}}}}}}}}}}}}}}}}, method::String, url::String, h::Nothing, b::String, q::Nothing; headers::Nothing, body::String, query::Nothing, kw::Base.Pairs{Symbol, Union{}, Tuple{}, NamedTuple{(), Tuple{}}})\n",
      "    @ HTTP ~/.julia/packages/HTTP/SN7VW/src/HTTP.jl:457\n",
      " [10] request(stack::Function, method::String, url::String, h::Nothing, b::String, q::Nothing)\n",
      "    @ HTTP ~/.julia/packages/HTTP/SN7VW/src/HTTP.jl:455\n",
      " [11] #request#19\n",
      "    @ ~/.julia/packages/HTTP/SN7VW/src/HTTP.jl:315 [inlined]\n",
      " [12] #post#39\n",
      "    @ ~/.julia/packages/HTTP/SN7VW/src/HTTP.jl:532 [inlined]\n",
      " [13] ising_sample(solver::String, h::Dict{Int64, Int64}, J::Dict{Tuple{Int64, Int64}, Int64}, num_reads::Int64)\n",
      "    @ Main.QuantumAnnealers ~/Desktop/Julia/QuantumAnnealers.jl/src/QuantumAnnealers.jl:31\n",
      " [14] ising_sample(solver::String, h::Dict{Int64, Int64}, J::Dict{Tuple{Int64, Int64}, Int64})\n",
      "    @ Main.QuantumAnnealers ~/Desktop/Julia/QuantumAnnealers.jl/src/QuantumAnnealers.jl:29\n",
      " [15] top-level scope\n",
      "    @ ~/Desktop/Julia/QuantumAnnealers.jl/examples/simpleCall.ipynb:6"
     ]
    }
   ],
   "source": [
    "# Define your Ising problem\n",
    "h = Dict(1 => -1, 2 => -1)  # Linear coefficients\n",
    "J = Dict((1, 2) => 1)     # Quadratic coefficients\n",
    "\n",
    "# Submit the Ising problem to the solver\n",
    "job_id = QuantumAnnealers.ising_sample(solver[\"topology__type\"], h, J)\n",
    "\n",
    "# Assuming the job is complete, fetch the results\n",
    "results = QuantumAnnealers.fetch_results(job_id)\n",
    "\n",
    "println(results)"
   ]
  },
  {
   "cell_type": "code",
   "execution_count": 279,
   "metadata": {},
   "outputs": [
    {
     "name": "stdout",
     "output_type": "stream",
     "text": [
      "hybrid_binary_quadratic_model_version2\n",
      "\t Status: ONLINE\t Avg Load: 0.0 \n",
      "hybrid_discrete_quadratic_model_version1\n",
      "\t Status: ONLINE\t Avg Load: 0.0 \n",
      "Advantage_system4.1\n",
      "\t Status: ONLINE\t Avg Load: 0.01 \n",
      "hybrid_constrained_quadratic_model_version1\n",
      "\t Status: ONLINE\t Avg Load: 0.0 \n",
      "Advantage2_prototype1.1\n",
      "\t Status: ONLINE\t Avg Load: 0.0 \n",
      "Advantage_system6.3\n",
      "\t Status: ONLINE\t Avg Load: 0.01 \n"
     ]
    },
    {
     "data": {
      "text/plain": [
       "6-element Vector{Any}:\n",
       " Dict{String, Any}(\"status\" => \"ONLINE\", \"properties\" => Dict{String, Any}(\"maximum_number_of_biases\" => 200000000, \"parameters\" => Dict{String, Any}(\"time_limit\" => \"Maximum requested runtime in seconds.\"), \"quota_conversion_rate\" => 20, \"maximum_time_limit_hrs\" => 24.0, \"minimum_time_limit\" => Any[Any[1, 3.0], Any[1024, 3.0], Any[4096, 10.0], Any[10000, 40.0], Any[30000, 200.0], Any[100000, 600.0], Any[1000000, 600.0]], \"maximum_number_of_variables\" => 1000000, \"supported_problem_types\" => Any[\"bqm\"], \"category\" => \"hybrid\", \"version\" => \"2.2\"), \"id\" => \"hybrid_binary_quadratic_model_version2\", \"description\" => \"Hybrid solver for general BQM problems\", \"avg_load\" => 0.0)\n",
       " Dict{String, Any}(\"status\" => \"ONLINE\", \"properties\" => Dict{String, Any}(\"maximum_number_of_biases\" => 5000000000, \"parameters\" => Dict{String, Any}(\"time_limit\" => \"Maximum requested runtime in seconds.\"), \"quota_conversion_rate\" => 20, \"maximum_number_of_cases\" => 500000, \"maximum_time_limit_hrs\" => 24.0, \"minimum_time_limit\" => Any[Any[20000, 5.0], Any[100000, 6.0], Any[200000, 13.0], Any[500000, 34.0], Any[1000000, 71.0], Any[2000000, 152.0], Any[5000000, 250.0], Any[20000000, 400.0], Any[250000000, 1200.0]], \"maximum_number_of_variables\" => 5000, \"supported_problem_types\" => Any[\"dqm\"], \"category\" => \"hybrid\", \"version\" => \"1.12\"…), \"id\" => \"hybrid_discrete_quadratic_model_version1\", \"description\" => \"Hybrid solver for general DQM problems\", \"avg_load\" => 0.0)\n",
       " Dict{String, Any}(\"status\" => \"ONLINE\", \"properties\" => Dict{String, Any}(\"problem_run_duration_range\" => Any[0.0, 1.0e6], \"programming_thermalization_range\" => Any[0.0, 10000.0], \"readout_thermalization_range\" => Any[0.0, 10000.0], \"couplers\" => Any[Any[30, 31], Any[31, 32], Any[32, 33], Any[33, 34], Any[34, 35], Any[35, 36], Any[36, 37], Any[37, 38], Any[38, 39], Any[39, 40]  …  Any[2624, 5728], Any[2639, 5728], Any[5713, 5728], Any[5727, 5728], Any[2774, 5729], Any[2789, 5729], Any[2804, 5729], Any[2819, 5729], Any[5714, 5729], Any[5728, 5729]], \"supported_problem_types\" => Any[\"ising\", \"qubo\"], \"j_range\" => Any[-1.0, 1.0], \"qubits\" => Any[30, 31, 32, 33, 34, 35, 36, 37, 38, 39  …  5720, 5721, 5722, 5723, 5724, 5725, 5726, 5727, 5728, 5729], \"problem_timing_data\" => Dict{String, Any}(\"reverse_annealing_without_reinit_delay_time_delta\" => -1.5, \"decorrelation_time_range\" => Any[500.0, 10000.0], \"decorrelation_max_nominal_anneal_time\" => 2000.0, \"typical_programming_time\" => 14072.88, \"readout_time_model_parameters\" => Any[0.0, 0.7699665876947938, 1.7242758696010096, 2.711975459489206, 3.1639057672764026, 3.750276915153992, 1.539131714800995, 1.8726623164229292, 2.125631787097315, 2.332672340068556, 2.371606651233025, 2.3716219271760215], \"version\" => \"1.0.0\", \"default_programming_thermalization\" => 1000.0, \"reverse_annealing_with_reinit_delay_time_delta\" => -4.5, \"default_annealing_time\" => 20.0, \"reverse_annealing_with_reinit_prog_time_delta\" => 0.0…), \"anneal_offset_ranges\" => Any[Any[0.0, 0.0], Any[0.0, 0.0], Any[0.0, 0.0], Any[0.0, 0.0], Any[0.0, 0.0], Any[0.0, 0.0], Any[0.0, 0.0], Any[0.0, 0.0], Any[0.0, 0.0], Any[0.0, 0.0]  …  Any[0.0, 0.0], Any[0.0, 0.0], Any[0.0, 0.0], Any[0.0, 0.0], Any[0.0, 0.0], Any[0.0, 0.0], Any[0.0, 0.0], Any[0.0, 0.0], Any[0.0, 0.0], Any[0.0, 0.0]], \"parameters\" => Dict{String, Any}(\"anneal_schedule\" => \"Annealing schedule formatted as a piecewise linear list of floating-point pairs of 't' and 's'.\", \"anneal_offsets\" => \"Anneal offsets for each working qubit, formatted as a list, with NaN specified for unused qubits.\", \"max_answers\" => \"Maximum number of answers to return.\", \"programming_thermalization\" => \"Time in microseconds to wait after programming the processor in order for it to cool back to base temperature, as a positive floating point number.\", \"flux_biases\" => \"Flux biases for each working qubit, in normalized offset units, formatted as a list for all qubits.\", \"initial_state\" => \"Initial states to use for a reverse-anneal request, as a list of qubit index and state.\", \"readout_thermalization\" => \"Time in microseconds to wait after each state is read from the processor in order for it to cool back to base temperature, as a positive floating point number.\", \"answer_mode\" => \"Format of returned answers, as 'histogram' or 'raw' samples.\", \"auto_scale\" => \"Automatic rescaling of h and J values to their available range, as a boolean flag.\", \"num_reads\" => \"Number of states to read (answers to return), as a positive integer.\"…)…), \"id\" => \"Advantage_system4.1\", \"description\" => \"Advantage performance update\", \"avg_load\" => 0.01)\n",
       " Dict{String, Any}(\"status\" => \"ONLINE\", \"properties\" => Dict{String, Any}(\"maximum_number_of_quadratic_variables\" => 100000000, \"num_biases_multiplier\" => 4.65705646e-6, \"num_constraints_multiplier\" => 6.44385747e-9, \"maximum_number_of_linear_biases_real\" => 200000000, \"supported_problem_types\" => Any[\"cqm\"], \"parameters\" => Dict{String, Any}(\"time_limit\" => \"Maximum requested runtime in seconds.\"), \"quota_conversion_rate\" => 20, \"maximum_time_limit_hrs\" => 24.0, \"version\" => \"1.12\", \"num_variables_multiplier\" => 0.000157411458…), \"id\" => \"hybrid_constrained_quadratic_model_version1\", \"description\" => \"Hybrid solver for general CQM problems\", \"avg_load\" => 0.0)\n",
       " Dict{String, Any}(\"status\" => \"ONLINE\", \"properties\" => Dict{String, Any}(\"problem_run_duration_range\" => Any[0.0, 1.0e6], \"programming_thermalization_range\" => Any[0.0, 10000.0], \"readout_thermalization_range\" => Any[0.0, 10000.0], \"couplers\" => Any[Any[0, 1], Any[1, 2], Any[2, 3], Any[0, 4], Any[1, 4], Any[1, 5], Any[2, 5], Any[4, 5], Any[2, 6], Any[3, 6]  …  Any[231, 575], Any[239, 575], Any[247, 575], Any[255, 575], Any[263, 575], Any[271, 575], Any[279, 575], Any[287, 575], Any[571, 575], Any[574, 575]], \"supported_problem_types\" => Any[\"ising\", \"qubo\"], \"j_range\" => Any[-1.0, 1.0], \"qubits\" => Any[0, 1, 2, 3, 4, 5, 6, 7, 8, 9  …  566, 567, 568, 569, 570, 571, 572, 573, 574, 575], \"problem_timing_data\" => Dict{String, Any}(\"reverse_annealing_without_reinit_delay_time_delta\" => -1.5, \"decorrelation_time_range\" => Any[500.0, 10000.0], \"decorrelation_max_nominal_anneal_time\" => 2000.0, \"typical_programming_time\" => 5516.04, \"readout_time_model_parameters\" => Any[0.0, 0.3557275141339465, 0.9357724660357261, 1.0791812460476866, 2.2951678040928636, 2.5136212074094355, 2.750508394851346, 1.2532064939682217, 1.3793326293216919, 1.5651536730002933, 1.4962317591534156, 1.5713111737732646, 1.614822057719991, 1.6148972160331345], \"version\" => \"1.0.0\", \"default_programming_thermalization\" => 1000.0, \"reverse_annealing_with_reinit_delay_time_delta\" => -4.5, \"default_annealing_time\" => 20.0, \"reverse_annealing_with_reinit_prog_time_delta\" => 0.0…), \"anneal_offset_ranges\" => Any[Any[-0.8763787484417843, 0.88397011689178], Any[-0.8768039773643824, 0.8664222518808119], Any[-0.8674912943408645, 0.8659911252139515], Any[-0.8593191547054061, 0.8173707781808314], Any[-0.8484247281723366, 0.876347929712106], Any[-0.8664241896015504, 0.8516336367481675], Any[-0.8836746697271209, 0.874998790930659], Any[-0.859713749671771, 0.8386071612329301], Any[-0.850773641689041, 0.8668368630314344], Any[-0.8689979511063738, 0.8524103072717624]  …  Any[-0.8580181801368043, 0.9051633665115275], Any[-0.9010227938732774, 0.8897315702569872], Any[-0.8969972603498109, 0.8617189793550367], Any[-0.8965770523426333, 0.8021706655807362], Any[-0.8497656417010934, 0.8916073800611578], Any[-0.9065781115913125, 0.873980425405842], Any[-0.8888079989377095, 0.8953638137153215], Any[-0.8459868718147546, 0.8936538074162234], Any[-0.9112988037924872, 0.9141990052158347], Any[-0.9126609257568562, 0.8842314748283825]], \"parameters\" => Dict{String, Any}(\"anneal_schedule\" => \"Annealing schedule formatted as a piecewise linear list of floating-point pairs of 't' and 's'.\", \"anneal_offsets\" => \"Anneal offsets for each working qubit, formatted as a list, with NaN specified for unused qubits.\", \"max_answers\" => \"Maximum number of answers to return.\", \"programming_thermalization\" => \"Time in microseconds to wait after programming the processor in order for it to cool back to base temperature, as a positive floating point number.\", \"flux_biases\" => \"Flux biases for each working qubit, in normalized offset units, formatted as a list for all qubits.\", \"initial_state\" => \"Initial states to use for a reverse-anneal request, as a list of qubit index and state.\", \"readout_thermalization\" => \"Time in microseconds to wait after each state is read from the processor in order for it to cool back to base temperature, as a positive floating point number.\", \"answer_mode\" => \"Format of returned answers, as 'histogram' or 'raw' samples.\", \"auto_scale\" => \"Automatic rescaling of h and J values to their available range, as a boolean flag.\", \"num_reads\" => \"Number of states to read (answers to return), as a positive integer.\"…)…), \"id\" => \"Advantage2_prototype1.1\", \"description\" => \"Small, experimental prototype of next-generation Advantage system architecture\", \"avg_load\" => 0.0)\n",
       " Dict{String, Any}(\"status\" => \"ONLINE\", \"properties\" => Dict{String, Any}(\"problem_run_duration_range\" => Any[0.0, 1.0e6], \"programming_thermalization_range\" => Any[0.0, 10000.0], \"readout_thermalization_range\" => Any[0.0, 10000.0], \"couplers\" => Any[Any[30, 31], Any[31, 32], Any[32, 33], Any[33, 34], Any[34, 35], Any[35, 36], Any[36, 37], Any[37, 38], Any[38, 39], Any[39, 40]  …  Any[2624, 5728], Any[2639, 5728], Any[5713, 5728], Any[5727, 5728], Any[2774, 5729], Any[2789, 5729], Any[2804, 5729], Any[2819, 5729], Any[5714, 5729], Any[5728, 5729]], \"supported_problem_types\" => Any[\"ising\", \"qubo\"], \"j_range\" => Any[-1.0, 1.0], \"qubits\" => Any[30, 31, 32, 33, 34, 35, 36, 37, 38, 39  …  5720, 5721, 5722, 5723, 5724, 5725, 5726, 5727, 5728, 5729], \"problem_timing_data\" => Dict{String, Any}(\"reverse_annealing_without_reinit_delay_time_delta\" => -1.5, \"decorrelation_time_range\" => Any[500.0, 10000.0], \"decorrelation_max_nominal_anneal_time\" => 2000.0, \"typical_programming_time\" => 14233.78, \"readout_time_model_parameters\" => Any[0.0, 0.557233790378284, 2.6280685283226806, 3.031704391882836, 3.7494270991217484, 1.3835889668743164, 1.6905249515148377, 2.2077057584952944, 2.2388441797907164, 2.238848680362337], \"version\" => \"1.0.0\", \"default_programming_thermalization\" => 1000.0, \"reverse_annealing_with_reinit_delay_time_delta\" => -4.5, \"default_annealing_time\" => 20.0, \"reverse_annealing_with_reinit_prog_time_delta\" => 0.0…), \"anneal_offset_ranges\" => Any[Any[0.0, 0.0], Any[0.0, 0.0], Any[0.0, 0.0], Any[0.0, 0.0], Any[0.0, 0.0], Any[0.0, 0.0], Any[0.0, 0.0], Any[0.0, 0.0], Any[0.0, 0.0], Any[0.0, 0.0]  …  Any[0.0, 0.0], Any[0.0, 0.0], Any[0.0, 0.0], Any[0.0, 0.0], Any[0.0, 0.0], Any[0.0, 0.0], Any[0.0, 0.0], Any[0.0, 0.0], Any[0.0, 0.0], Any[0.0, 0.0]], \"parameters\" => Dict{String, Any}(\"anneal_schedule\" => \"Annealing schedule formatted as a piecewise linear list of floating-point pairs of 't' and 's'.\", \"anneal_offsets\" => \"Anneal offsets for each working qubit, formatted as a list, with NaN specified for unused qubits.\", \"max_answers\" => \"Maximum number of answers to return.\", \"programming_thermalization\" => \"Time in microseconds to wait after programming the processor in order for it to cool back to base temperature, as a positive floating point number.\", \"flux_biases\" => \"Flux biases for each working qubit, in normalized offset units, formatted as a list for all qubits.\", \"initial_state\" => \"Initial states to use for a reverse-anneal request, as a list of qubit index and state.\", \"readout_thermalization\" => \"Time in microseconds to wait after each state is read from the processor in order for it to cool back to base temperature, as a positive floating point number.\", \"answer_mode\" => \"Format of returned answers, as 'histogram' or 'raw' samples.\", \"auto_scale\" => \"Automatic rescaling of h and J values to their available range, as a boolean flag.\", \"num_reads\" => \"Number of states to read (answers to return), as a positive integer.\"…)…), \"id\" => \"Advantage_system6.3\", \"description\" => \"Advantage performance update\", \"avg_load\" => 0.01)"
      ]
     },
     "metadata": {},
     "output_type": "display_data"
    }
   ],
   "source": [
    "QuantumAnnealers.solvers_available()"
   ]
  },
  {
   "cell_type": "code",
   "execution_count": 280,
   "metadata": {},
   "outputs": [
    {
     "data": {
      "text/plain": [
       "HTTP.Messages.Response:\n",
       "\"\"\"\n",
       "HTTP/1.1 200 OK\r\n",
       "Date: Mon, 06 Nov 2023 06:03:02 GMT\r\n",
       "Content-Type: application/vnd.dwave.sapi.solver-definition+json; version=2.0.0\r\n",
       "Transfer-Encoding: chunked\r\n",
       "Connection: keep-alive\r\n",
       "Server: nginx\r\n",
       "Vary: Accept-Encoding\r\n",
       "Strict-Transport-Security: max-age=31536000; includeSubDomains; preload\r\n",
       "Content-Encoding: gzip\r\n",
       "\r\n",
       "{\"id\":\"Advantage_system6.3\",\"status\":\"ONLINE\",\"description\":\"Advantage performance update\",\"properties\":{\"num_qubits\":5760,\"qubits\":[30,31,32,33,34,35,36,37,38,39,40,41,42,43,44,45,46,47,48,49,50,51,52,53,54,55,56,57,58,59,60,61,62,63,64,65,66,67,68,69,70,71,72,73,74,75,76,77,78,79,80,81,82,83,84,85,86,87,88,89,90,91,92,93,94,95,96,97,98,99,100,101,102,103,104,105,106,107,108,109,110,111,112,113,114,115,116,117,118,119,120,121,122,123,124,125,126,127,128,129,130,131,132,133,134,135,136,137,138,139,140,141,142,143,144,145,146,147,148,149,150,151,152,153,154,155,156,157,158,159,160,161,162,163,164,165,166,167,168,169,170,171,172,173,174,175,176,177,178,179,180,181,182,183,184,185,186,187,188,189,190,191,192,193,194,195,196,197,198,199,200,201,202,203,204,205,206,207,208,209,210,211,212,213,214,215,216,217,218,219,220,221,222,223,224,225,226,227,228,229,230,231,232,233,234,235,236,237,238,239,240,241,242,243,244,245,246,247,248,249,250,251,252,253,254,255,256,257,258,259,260,261,262,263,2\n",
       "⋮\n",
       "728261-byte body\n",
       "\"\"\""
      ]
     },
     "metadata": {},
     "output_type": "display_data"
    }
   ],
   "source": [
    "# r2 = session.get(f\"{SAPI_HOME}/solvers/remote/{qpu_solver}\")\n",
    "# r2 = r2.json()\n",
    "response = HTTP.request(\"GET\", QuantumAnnealers.BASE_URL * \"/solvers/remote/Advantage_system6.3\", QuantumAnnealers.headers )\n"
   ]
  },
  {
   "cell_type": "code",
   "execution_count": 281,
   "metadata": {},
   "outputs": [
    {
     "data": {
      "text/plain": [
       "Dict{String, Any} with 5 entries:\n",
       "  \"status\"      => \"ONLINE\"\n",
       "  \"properties\"  => Dict{String, Any}(\"problem_run_duration_range\"=>Any[0.0, 1.0…\n",
       "  \"id\"          => \"Advantage_system6.3\"\n",
       "  \"description\" => \"Advantage performance update\"\n",
       "  \"avg_load\"    => 0.01"
      ]
     },
     "metadata": {},
     "output_type": "display_data"
    }
   ],
   "source": [
    "res = JSON.parse(String(response.body))\n"
   ]
  },
  {
   "cell_type": "code",
   "execution_count": 282,
   "metadata": {},
   "outputs": [
    {
     "data": {
      "text/plain": [
       "Dict{String, Any} with 30 entries:\n",
       "  \"problem_run_duration_range\"         => Any[0.0, 1.0e6]\n",
       "  \"programming_thermalization_range\"   => Any[0.0, 10000.0]\n",
       "  \"readout_thermalization_range\"       => Any[0.0, 10000.0]\n",
       "  \"couplers\"                           => Any[Any[30, 31], Any[31, 32], Any[32,…\n",
       "  \"supported_problem_types\"            => Any[\"ising\", \"qubo\"]\n",
       "  \"j_range\"                            => Any[-1.0, 1.0]\n",
       "  \"qubits\"                             => Any[30, 31, 32, 33, 34, 35, 36, 37, 3…\n",
       "  \"problem_timing_data\"                => Dict{String, Any}(\"reverse_annealing_…\n",
       "  \"anneal_offset_ranges\"               => Any[Any[0.0, 0.0], Any[0.0, 0.0], Any…\n",
       "  \"parameters\"                         => Dict{String, Any}(\"anneal_schedule\"=>…\n",
       "  \"chip_id\"                            => \"Advantage_system6.3\"\n",
       "  \"quota_conversion_rate\"              => 1\n",
       "  \"h_range\"                            => Any[-4.0, 4.0]\n",
       "  \"default_programming_thermalization\" => 1000.0\n",
       "  \"num_reads_range\"                    => Any[1, 10000]\n",
       "  \"default_annealing_time\"             => 20.0\n",
       "  \"extended_j_range\"                   => Any[-2.0, 1.0]\n",
       "  \"topology\"                           => Dict{String, Any}(\"shape\"=>Any[16], \"…\n",
       "  \"annealing_time_range\"               => Any[0.5, 2000.0]\n",
       "  ⋮                                    => ⋮"
      ]
     },
     "metadata": {},
     "output_type": "display_data"
    }
   ],
   "source": [
    "res[\"properties\"]"
   ]
  },
  {
   "cell_type": "code",
   "execution_count": 298,
   "metadata": {},
   "outputs": [
    {
     "data": {
      "text/plain": [
       "2-element Vector{Any}:\n",
       " 30\n",
       " 31"
      ]
     },
     "metadata": {},
     "output_type": "display_data"
    }
   ],
   "source": [
    "#Ising Sampling\n",
    "\n",
    "# biases = Dict(\"x\"=> -0.5, \"y\"=> 0.5, \"xy\"=> -1)\n",
    "biases = Dict(\"x\"=> 4.0, \"y\"=> 4.0, \"xy\"=> -1)\n",
    "qubits = res[\"properties\"][\"qubits\"]\n",
    "couplers = res[\"properties\"][\"couplers\"]\n",
    "xy = couplers[1]"
   ]
  },
  {
   "cell_type": "code",
   "execution_count": 299,
   "metadata": {},
   "outputs": [
    {
     "data": {
      "text/plain": [
       "\"AAAAAAAA8L8AAAAAAAAAAAAAAAAAAAAAAAAAAAAAAAAAAAAAAAAAAAAAAAAAAAAAAAAAAAAAAAAAAAAAAAAAAAAAAAAAAAAAAAAAAAAAAAAAAAAAAAAAAAAAAAAAAAAAAAAAAAAAAAAAAAAAAAAAAAAAAAAAAAAAAAAAAAAAAAAAAAAAAAAAAAAAAAAAAAAAAAAAAAAAAAAAAAAAAAAAAAAAAAAAAAAAAAAAAAAAAAAAAAAAAAAAAAAAAAAAAAAAAAAAAAAAAAAAA\" ⋯ 427250 bytes ⋯ \"AAAAAAAAAAAAAAAAAAAAAAAAAAAAAAAAAAAAAAAAAAAAAAAAAAAAAAAAAAAAAAAAAAAAAAAAAAAAAAAAAAAAAAAAAAAAAAAAAAAAAAAAAAAAAAAAAAAAAAAAAAAAAAAAAAAAAAAAAAAAAAAAAAAAAAAAAAAAAAAAAAAAAAAAAAAAAAAAAAAAAAAAAAAAAAAAAAAAAAAAAAAAAAAAAAAAAAAAAAAAAAAAAAAAAAAAAAAAAAAAAAAAAAAAAAAAAAAAAAAAAAAAAAAA=\""
      ]
     },
     "metadata": {},
     "output_type": "display_data"
    }
   ],
   "source": [
    "using Base64\n",
    "\n",
    "# Assuming `qubits`, `xy`, and `biases` are predefined similar to your Python code\n",
    "lin_vec = fill(0.0, length(qubits))  # Create a vector filled with NaN\n",
    "lin_vec[findfirst(==(xy[1]), qubits)] = biases[\"x\"]\n",
    "lin_vec[findfirst(==(xy[2]), qubits)] = biases[\"y\"]\n",
    "\n",
    "# Encoding the vector to base64\n",
    "lin_vec_bytes = Vector{UInt8}(undef, sizeof(Float64) * length(lin_vec))\n",
    "for (i, val) in enumerate(lin_vec)\n",
    "    reinterpret(UInt8, [val]) |> (x -> copyto!(lin_vec_bytes, (i-1)*8+1, x, 1, 8))\n",
    "end\n",
    "lin = base64encode(lin_vec_bytes)\n",
    "\n",
    "# Similar process for quad_vec\n",
    "quad_vec = fill(0.0, length(couplers))\n",
    "quad_vec[1] = biases[\"xy\"]\n",
    "quad_vec_bytes = Vector{UInt8}(undef, sizeof(Float64) * length(quad_vec))\n",
    "for (i, val) in enumerate(quad_vec)\n",
    "    reinterpret(UInt8, [val]) |> (x -> copyto!(quad_vec_bytes, (i-1)*8+1, x, 1, 8))\n",
    "end\n",
    "quad = base64encode(quad_vec_bytes)\n"
   ]
  },
  {
   "cell_type": "code",
   "execution_count": 303,
   "metadata": {},
   "outputs": [
    {
     "data": {
      "text/plain": [
       "Dict{String, Any} with 5 entries:\n",
       "  \"label\"  => \"QPU REST submission 1\"\n",
       "  \"data\"   => Dict(\"quad\"=>\"AAAAAAAA8L8AAAAAAAAAAAAAAAAAAAAAAAAAAAAAAAAAAAAAAAA…\n",
       "  \"solver\" => \"Advantage_system6.3\"\n",
       "  \"params\" => Dict(\"num_reads\"=>1)\n",
       "  \"type\"   => \"ising\""
      ]
     },
     "metadata": {},
     "output_type": "display_data"
    }
   ],
   "source": [
    "# lin\n",
    "conditions = Dict(\"solver\" => \"Advantage_system6.3\", \n",
    "                \"label\" => \"QPU REST submission 1\", \n",
    "                \"data\" => Dict(\"format\" => \"qp\", \"lin\" => lin, \"quad\" => quad),\n",
    "                \"type\" => \"ising\",\n",
    "                \"params\" => Dict(\"num_reads\" => 1)\n",
    "                )"
   ]
  },
  {
   "cell_type": "code",
   "execution_count": 304,
   "metadata": {},
   "outputs": [
    {
     "data": {
      "text/plain": [
       "HTTP.Messages.Response:\n",
       "\"\"\"\n",
       "HTTP/1.1 201 Created\r\n",
       "Date: Mon, 06 Nov 2023 06:09:42 GMT\r\n",
       "Content-Type: application/vnd.dwave.sapi.problems+json; version=2.1.0; charset=utf-8\r\n",
       "Content-Length: 31554\r\n",
       "Connection: keep-alive\r\n",
       "Server: nginx\r\n",
       "Strict-Transport-Security: max-age=31536000; includeSubDomains; preload\r\n",
       "\r\n",
       "{\"status\":\"COMPLETED\",\"id\":\"4ebbb0d0-9a13-49fc-842d-88f7cca15936\",\"solver\":\"Advantage_system6.3\",\"type\":\"ising\",\"submitted_on\":\"2023-11-06T06:09:42.486921Z\",\"label\":\"QPU REST submission 1\",\"solved_on\":\"2023-11-06T06:09:42.823467Z\",\"answer\":{\"solutions\":\"PtTC8vf1H6Tsbr4b2Q/lH1yYgxDHYOGuHOavOzyQH/py4rstKPWhU1zhaNKg3ADt2DFEaurFocSaqsQZotuhO2pnYbsu+ci69PeChBhkakcis1EgWmU4j9bb420dhYjso7g1Sm9bJqy4nh0s26CTwhIjoIv5IKkqP6zLCsUcKyqRSliWliqQxWsRMGBX7EXmHdrjP/AUE832h6N8Kw3pLi/vCUgk/RNX/egk0vFm+27ju/TjeXRqnvnx0DeTHuoIvNgXkzwxgYKucQ+3D3ubgfR9ZeQ7RGVgNG/CdEy+1PftVmvmaJaamozo5bdFUgrGUi86XLhp7JtVbGpt97oDSp6KvUDAnqzwVpIu6rZgsj0Iw+IWTy1MG3qYnQIiaH7TSfWkwjZQ/cS4MgrN3E3dMS4OB7NatnCE6jM/fat8fWo6JwpFj4XLmBcx8THagUln3xpnqFhDUrXH8RyPQFEqwp6qEZb+X7C/VTnExJ6rTR+mrgV2PzFye04Ow3dAxPx6PMh2tamw8nGKB3LJ1VNm4q/2iur6/LZMhJYRdY05lpLP+688li8LSi/4pF10+YNBOmuTrlTjvqMWPvzHaNNL2+WCuW4n/tYkd5O/Q817tkzq+LaBuvmV7W/9aPnEWpbpUXpZXnuWPgg/X5GpWRroB8AoAomxIx1KKhdtuvfJLh2nfMVhHRbJ3iXg+wwF0+LRIT1R8t3mq8s5deMDlfr5FT4I0//7U14p3kl9j/M3OK\n",
       "⋮\n",
       "31554-byte body\n",
       "\"\"\""
      ]
     },
     "metadata": {},
     "output_type": "display_data"
    }
   ],
   "source": [
    "  response2 = HTTP.request(\"POST\", QuantumAnnealers.BASE_URL * \"/problems\", QuantumAnnealers.headers,\n",
    "    body = JSON.json(conditions) )"
   ]
  },
  {
   "cell_type": "code",
   "execution_count": 305,
   "metadata": {},
   "outputs": [
    {
     "data": {
      "text/plain": [
       "Dict{String, Any} with 8 entries:\n",
       "  \"label\"        => \"QPU REST submission 1\"\n",
       "  \"status\"       => \"COMPLETED\"\n",
       "  \"submitted_on\" => \"2023-11-06T06:09:42.486921Z\"\n",
       "  \"id\"           => \"4ebbb0d0-9a13-49fc-842d-88f7cca15936\"\n",
       "  \"solver\"       => \"Advantage_system6.3\"\n",
       "  \"solved_on\"    => \"2023-11-06T06:09:42.823467Z\"\n",
       "  \"type\"         => \"ising\"\n",
       "  \"answer\"       => Dict{String, Any}(\"timing\"=>Dict{String, Any}(\"qpu_delay_ti…"
      ]
     },
     "metadata": {},
     "output_type": "display_data"
    }
   ],
   "source": [
    "res2 = JSON.parse(String(response2.body))"
   ]
  },
  {
   "cell_type": "code",
   "execution_count": 306,
   "metadata": {},
   "outputs": [
    {
     "data": {
      "text/plain": [
       "\"4ebbb0d0-9a13-49fc-842d-88f7cca15936\""
      ]
     },
     "metadata": {},
     "output_type": "display_data"
    }
   ],
   "source": [
    "res2[\"id\"]"
   ]
  },
  {
   "cell_type": "code",
   "execution_count": 307,
   "metadata": {},
   "outputs": [
    {
     "data": {
      "text/plain": [
       "HTTP.Messages.Response:\n",
       "\"\"\"\n",
       "HTTP/1.1 200 OK\r\n",
       "Date: Mon, 06 Nov 2023 06:09:48 GMT\r\n",
       "Content-Type: application/vnd.dwave.sapi.problem-answer+json; version=2.1.0; charset=utf-8\r\n",
       "Transfer-Encoding: chunked\r\n",
       "Connection: keep-alive\r\n",
       "Server: nginx\r\n",
       "Vary: Accept-Encoding\r\n",
       "Strict-Transport-Security: max-age=31536000; includeSubDomains; preload\r\n",
       "Content-Encoding: gzip\r\n",
       "\r\n",
       "{\"answer\":{\"solutions\":\"PtTC8vf1H6Tsbr4b2Q/lH1yYgxDHYOGuHOavOzyQH/py4rstKPWhU1zhaNKg3ADt2DFEaurFocSaqsQZotuhO2pnYbsu+ci69PeChBhkakcis1EgWmU4j9bb420dhYjso7g1Sm9bJqy4nh0s26CTwhIjoIv5IKkqP6zLCsUcKyqRSliWliqQxWsRMGBX7EXmHdrjP/AUE832h6N8Kw3pLi/vCUgk/RNX/egk0vFm+27ju/TjeXRqnvnx0DeTHuoIvNgXkzwxgYKucQ+3D3ubgfR9ZeQ7RGVgNG/CdEy+1PftVmvmaJaamozo5bdFUgrGUi86XLhp7JtVbGpt97oDSp6KvUDAnqzwVpIu6rZgsj0Iw+IWTy1MG3qYnQIiaH7TSfWkwjZQ/cS4MgrN3E3dMS4OB7NatnCE6jM/fat8fWo6JwpFj4XLmBcx8THagUln3xpnqFhDUrXH8RyPQFEqwp6qEZb+X7C/VTnExJ6rTR+mrgV2PzFye04Ow3dAxPx6PMh2tamw8nGKB3LJ1VNm4q/2iur6/LZMhJYRdY05lpLP+688li8LSi/4pF10+YNBOmuTrlTjvqMWPvzHaNNL2+WCuW4n/tYkd5O/Q817tkzq+LaBuvmV7W/9aPnEWpbpUXpZXnuWPgg/X5GpWRroB8AoAomxIx1KKhdtuvfJLh2nfMVhHRbJ3iXg+wwF0+LRIT1R8t3mq8s5deMDlfr5FT4I0//7U14p3kl9j/M3OK8BU1TtImf01TbVMhpufXb2urX6ebIFggiumyRtBhSTKTfNrYy2Cp2R1+oNDqbef63YE1EtE9yOQCED8erJquD7P27CdcKm8AHeSinNbtLGateGiDo/4xQbkMR9Evrp6iu0NuNMJjtuY9aIXF7/y0Xy1tYsX0IqwFNEUOVMMZ6YJLnXzkliONkcmE+GybNo\",\"energies\":\"AAAAAAAAIsA=\",\"timing\":{\"q\n",
       "⋮\n",
       "31324-byte body\n",
       "\"\"\""
      ]
     },
     "metadata": {},
     "output_type": "display_data"
    }
   ],
   "source": [
    "response3 = HTTP.request(\"GET\", QuantumAnnealers.BASE_URL * \"/problems/$(res2[\"id\"])/answer\", QuantumAnnealers.headers )"
   ]
  },
  {
   "cell_type": "code",
   "execution_count": 308,
   "metadata": {},
   "outputs": [
    {
     "data": {
      "text/plain": [
       "Dict{String, Any} with 1 entry:\n",
       "  \"answer\" => Dict{String, Any}(\"timing\"=>Dict{String, Any}(\"qpu_delay_time_per…"
      ]
     },
     "metadata": {},
     "output_type": "display_data"
    }
   ],
   "source": [
    "res3 = JSON.parse(String(response3.body))"
   ]
  },
  {
   "cell_type": "code",
   "execution_count": 309,
   "metadata": {},
   "outputs": [
    {
     "name": "stdout",
     "output_type": "stream",
     "text": [
      "Found lowest energy -9.0 in 16158.21 microseconds.\n"
     ]
    },
    {
     "name": "stderr",
     "output_type": "stream",
     "text": [
      "┌ Info: 16158.21\n",
      "└ @ Main /Users/javier/Desktop/Julia/QuantumAnnealers.jl/examples/simpleCall.ipynb:1\n"
     ]
    }
   ],
   "source": [
    "@info res3[\"answer\"][\"timing\"][\"qpu_access_time\"]\n",
    "using Base64\n",
    "\n",
    "# Assuming `r4` is a dictionary-like structure obtained from a JSON response\n",
    "qpu_access_time = res3[\"answer\"][\"timing\"][\"qpu_access_time\"]\n",
    "\n",
    "# Decode the base64-encoded energies\n",
    "energies_encoded = res3[\"answer\"][\"energies\"]\n",
    "energies_bytes = base64decode(energies_encoded)\n",
    "\n",
    "# Convert the byte array into an array of floats (doubles)\n",
    "energies = reinterpret(Float64, energies_bytes)\n",
    "\n",
    "# Print the result\n",
    "println(\"Found lowest energy $(minimum(energies)) in $qpu_access_time microseconds.\")\n",
    "\n"
   ]
  },
  {
   "cell_type": "code",
   "execution_count": 310,
   "metadata": {},
   "outputs": [
    {
     "data": {
      "text/plain": [
       "1-element reinterpret(Float64, ::Vector{UInt8}):\n",
       " -9.0"
      ]
     },
     "metadata": {},
     "output_type": "display_data"
    }
   ],
   "source": [
    "energies"
   ]
  },
  {
   "cell_type": "code",
   "execution_count": 311,
   "metadata": {},
   "outputs": [
    {
     "data": {
      "text/plain": [
       "Dict{String, Any} with 7 entries:\n",
       "  \"timing\"           => Dict{String, Any}(\"qpu_delay_time_per_sample\"=>20.54, \"…\n",
       "  \"num_variables\"    => 5760\n",
       "  \"format\"           => \"qp\"\n",
       "  \"active_variables\" => \"HgAAAB8AAAAgAAAAIQAAACIAAAAjAAAAJAAAACUAAAAmAAAAJwAAAC…\n",
       "  \"energies\"         => \"AAAAAAAAIsA=\"\n",
       "  \"num_occurrences\"  => \"AQAAAA==\"\n",
       "  \"solutions\"        => \"PtTC8vf1H6Tsbr4b2Q/lH1yYgxDHYOGuHOavOzyQH/py4rstKPWhU1…"
      ]
     },
     "metadata": {},
     "output_type": "display_data"
    }
   ],
   "source": [
    "res3[\"answer\"]\n",
    "# reinterpret(Float64, base64decode(res3[\"answer\"][\"energies\"]))"
   ]
  },
  {
   "cell_type": "code",
   "execution_count": 312,
   "metadata": {},
   "outputs": [
    {
     "data": {
      "text/plain": [
       "bytes_to_ising_solutions (generic function with 1 method)"
      ]
     },
     "metadata": {},
     "output_type": "display_data"
    }
   ],
   "source": [
    "# reinterpret(Float64, base64decode(res3[\"answer\"][\"active_variables\"])[1:Int(10*80)])\n",
    "# sign.(reinterpret(Float64, base64decode(res3[\"answer\"][\"solutions\"])))\n",
    "# base64decode(res3[\"answer\"][\"solutions\"])\n",
    "\n",
    "# Function to unpack bits to Ising values (-1 or +1)\n",
    "function unpack_bits_to_ising(decoded_bytes)\n",
    "    # Initialize an empty array to store the Ising problem variables\n",
    "    ising_solutions = Int[]\n",
    "\n",
    "    # Iterate over each byte\n",
    "    for byte in decoded_bytes\n",
    "        # Iterate over each bit in the byte\n",
    "        for i in 0:7\n",
    "            # Extract the bit using bitwise AND and shift\n",
    "            bit = (byte >>> i) & 0x01\n",
    "            # Map 0 to -1, 1 stays 1 for Ising model\n",
    "            ising_value = (bit == 0) ? -1 : 1\n",
    "            # Append the Ising value to the solutions array\n",
    "            push!(ising_solutions, ising_value)\n",
    "        end\n",
    "    end\n",
    "\n",
    "    return ising_solutions\n",
    "end\n",
    "\n",
    "\n",
    "function bytes_to_ising_solutions(bytes)\n",
    "    # Initialize an array to store the Ising problem solutions\n",
    "    ising_solutions = Int[]\n",
    "\n",
    "    # Iterate through each byte\n",
    "    for byte in bytes\n",
    "        # Iterate through each bit in the byte in little-endian order\n",
    "        for bit_index in 0:7\n",
    "            # Extract the bit\n",
    "            bit = (byte >> bit_index) & 0x01\n",
    "            # Convert 0 to -1 for Ising representation\n",
    "            ising_value = (bit == 0) ? -1 : 1\n",
    "            push!(ising_solutions, ising_value)\n",
    "        end\n",
    "    end\n",
    "\n",
    "    return ising_solutions\n",
    "end"
   ]
  },
  {
   "cell_type": "code",
   "execution_count": 313,
   "metadata": {},
   "outputs": [
    {
     "data": {
      "text/plain": [
       "5616-element Vector{Int64}:\n",
       " -1\n",
       "  1\n",
       "  1\n",
       "  1\n",
       "  1\n",
       "  1\n",
       " -1\n",
       " -1\n",
       " -1\n",
       " -1\n",
       "  ⋮\n",
       "  1\n",
       " -1\n",
       " -1\n",
       " -1\n",
       "  1\n",
       " -1\n",
       "  1\n",
       "  1\n",
       " -1"
      ]
     },
     "metadata": {},
     "output_type": "display_data"
    }
   ],
   "source": [
    "spins = unpack_bits_to_ising(base64decode(res3[\"answer\"][\"solutions\"]))\n",
    "spins = bytes_to_ising_solutions(base64decode(res3[\"answer\"][\"solutions\"]))"
   ]
  },
  {
   "cell_type": "code",
   "execution_count": 314,
   "metadata": {},
   "outputs": [
    {
     "data": {
      "text/plain": [
       "5616-element Vector{Int64}:\n",
       " -1\n",
       "  1\n",
       "  1\n",
       "  1\n",
       "  1\n",
       "  1\n",
       " -1\n",
       " -1\n",
       " -1\n",
       " -1\n",
       "  ⋮\n",
       "  1\n",
       " -1\n",
       " -1\n",
       " -1\n",
       "  1\n",
       " -1\n",
       "  1\n",
       "  1\n",
       " -1"
      ]
     },
     "metadata": {},
     "output_type": "display_data"
    }
   ],
   "source": [
    "spins"
   ]
  },
  {
   "cell_type": "code",
   "execution_count": 271,
   "metadata": {},
   "outputs": [
    {
     "data": {
      "text/plain": [
       "10×5632 adjoint(::Matrix{Int64}) with eltype Int64:\n",
       "  1   1  -1   1  -1   1  -1  -1   1  …   1  -1  -1  -1  -1  -1  -1  -1  -1\n",
       "  1   1  -1   1  -1   1  -1  -1  -1     -1  -1  -1  -1  -1  -1   1   1  -1\n",
       "  1   1  -1   1  -1  -1  -1  -1  -1      1  -1  -1  -1  -1  -1  -1  -1  -1\n",
       "  1  -1   1   1  -1   1   1   1  -1     -1  -1  -1  -1  -1  -1   1  -1  -1\n",
       "  1  -1  -1  -1   1  -1   1   1  -1     -1  -1  -1  -1  -1  -1   1   1   1\n",
       "  1  -1   1   1  -1   1  -1  -1   1  …  -1  -1  -1  -1  -1  -1  -1   1   1\n",
       "  1   1   1  -1   1  -1   1   1  -1     -1  -1  -1  -1  -1  -1   1   1  -1\n",
       "  1   1   1  -1  -1  -1  -1  -1   1      1  -1  -1  -1  -1  -1  -1  -1  -1\n",
       "  1  -1   1   1  -1  -1  -1  -1  -1     -1  -1  -1  -1  -1  -1  -1  -1   1\n",
       " -1  -1  -1  -1  -1  -1   1   1  -1     -1  -1  -1  -1  -1  -1  -1   1   1"
      ]
     },
     "metadata": {},
     "output_type": "display_data"
    }
   ],
   "source": [
    "reshape(spins, :,10)'"
   ]
  },
  {
   "cell_type": "code",
   "execution_count": 258,
   "metadata": {},
   "outputs": [
    {
     "data": {
      "text/plain": [
       "10×5632 adjoint(::Matrix{Int64}) with eltype Int64:\n",
       " -1   1  -1  -1  -1  -1  -1  -1   1  …  -1  -1  -1  -1  -1  -1   1   1  -1\n",
       "  1   1  -1   1   1   1  -1  -1   1     -1  -1  -1  -1  -1  -1  -1   1   1\n",
       "  1  -1  -1   1  -1   1  -1  -1   1      1  -1  -1  -1  -1  -1   1   1   1\n",
       "  1   1  -1  -1  -1   1  -1  -1   1     -1  -1  -1  -1  -1  -1  -1  -1  -1\n",
       "  1   1  -1   1  -1   1  -1  -1   1     -1  -1  -1  -1  -1  -1  -1   1   1\n",
       "  1  -1   1   1  -1  -1  -1  -1  -1  …  -1  -1  -1  -1  -1  -1  -1   1   1\n",
       "  1  -1   1   1  -1  -1  -1  -1  -1      1  -1  -1  -1  -1  -1   1  -1   1\n",
       " -1   1   1   1   1  -1  -1  -1  -1      1  -1  -1  -1  -1  -1  -1   1  -1\n",
       "  1   1  -1   1  -1   1  -1  -1  -1      1  -1  -1  -1  -1  -1  -1   1  -1\n",
       "  1   1   1  -1  -1  -1  -1  -1  -1     -1  -1  -1  -1  -1  -1  -1  -1  -1"
      ]
     },
     "metadata": {},
     "output_type": "display_data"
    }
   ],
   "source": [
    "reshape(spins, :,10)'"
   ]
  },
  {
   "cell_type": "code",
   "execution_count": 248,
   "metadata": {},
   "outputs": [
    {
     "data": {
      "text/plain": [
       "10×5632 adjoint(::Matrix{Int64}) with eltype Int64:\n",
       "  1   1  -1   1  -1  -1  -1  -1  -1  …  -1  -1  -1  -1  -1  -1   1  -1  -1\n",
       "  1  -1  -1   1  -1  -1  -1  -1  -1     -1  -1  -1  -1  -1  -1  -1   1  -1\n",
       " -1   1  -1   1   1  -1  -1  -1  -1      1  -1  -1  -1  -1  -1   1   1   1\n",
       " -1  -1  -1  -1   1   1  -1  -1  -1     -1  -1  -1  -1  -1  -1   1  -1  -1\n",
       " -1   1   1   1  -1  -1  -1  -1  -1      1  -1  -1  -1  -1  -1  -1   1  -1\n",
       " -1  -1   1  -1  -1   1  -1  -1   1  …   1  -1  -1  -1  -1  -1   1  -1   1\n",
       "  1  -1  -1  -1   1   1  -1  -1  -1     -1  -1  -1  -1  -1  -1  -1   1   1\n",
       " -1   1   1  -1  -1   1  -1  -1  -1     -1  -1  -1  -1  -1  -1  -1  -1  -1\n",
       "  1  -1   1  -1  -1   1  -1  -1   1     -1  -1  -1  -1  -1  -1   1   1  -1\n",
       "  1   1   1   1  -1   1  -1  -1   1     -1  -1  -1  -1  -1  -1  -1   1   1"
      ]
     },
     "metadata": {},
     "output_type": "display_data"
    }
   ],
   "source": [
    "reshape(spins, :,10)'\n",
    "# spins[1:20]"
   ]
  },
  {
   "cell_type": "code",
   "execution_count": 315,
   "metadata": {},
   "outputs": [
    {
     "data": {
      "text/plain": [
       "5614-element reinterpret(Int32, ::Vector{UInt8}):\n",
       "   30\n",
       "   31\n",
       "   32\n",
       "   33\n",
       "   34\n",
       "   35\n",
       "   36\n",
       "   37\n",
       "   38\n",
       "   39\n",
       "    ⋮\n",
       " 5721\n",
       " 5722\n",
       " 5723\n",
       " 5724\n",
       " 5725\n",
       " 5726\n",
       " 5727\n",
       " 5728\n",
       " 5729"
      ]
     },
     "metadata": {},
     "output_type": "display_data"
    }
   ],
   "source": [
    "reinterpret(Int32, base64decode(res3[\"answer\"][\"active_variables\"]))"
   ]
  },
  {
   "cell_type": "code",
   "execution_count": 275,
   "metadata": {},
   "outputs": [],
   "source": []
  },
  {
   "cell_type": "code",
   "execution_count": null,
   "metadata": {},
   "outputs": [],
   "source": []
  }
 ],
 "metadata": {
  "kernelspec": {
   "display_name": "Julia 1.8.4",
   "language": "julia",
   "name": "julia-1.8"
  },
  "language_info": {
   "file_extension": ".jl",
   "mimetype": "application/julia",
   "name": "julia",
   "version": "1.8.4"
  },
  "orig_nbformat": 4
 },
 "nbformat": 4,
 "nbformat_minor": 2
}
